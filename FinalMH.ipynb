{
  "nbformat": 4,
  "nbformat_minor": 0,
  "metadata": {
    "colab": {
      "provenance": []
    },
    "kernelspec": {
      "name": "python3",
      "display_name": "Python 3"
    },
    "language_info": {
      "name": "python"
    }
  },
  "cells": [
    {
      "cell_type": "code",
      "source": [
        "import pandas as pd\n",
        "from transformers import pipeline, AutoTokenizer\n",
        "from sklearn.metrics import accuracy_score, precision_recall_fscore_support\n",
        "import torch\n",
        "from torch.utils.data import Dataset, DataLoader"
      ],
      "metadata": {
        "id": "cv2_ZJzoTk6-"
      },
      "execution_count": 51,
      "outputs": []
    },
    {
      "cell_type": "code",
      "source": [
        "filepath='/content/sentimentdataset.csv'"
      ],
      "metadata": {
        "id": "C39Cx2zCVE1z"
      },
      "execution_count": 52,
      "outputs": []
    },
    {
      "cell_type": "code",
      "source": [
        "# 1. Load the dataset\n",
        "def load_dataset(file_path):\n",
        "    dataset = pd.read_csv(file_path)\n",
        "    print(\"Dataset loaded. First few rows:\")\n",
        "    print(dataset.head())\n",
        "    return dataset"
      ],
      "metadata": {
        "id": "5AVwac5mTngF"
      },
      "execution_count": 53,
      "outputs": []
    },
    {
      "cell_type": "code",
      "source": [
        "# 2. Preprocess the dataset (extract text and labels)\n",
        "def preprocess_dataset(dataset):\n",
        "    texts = dataset['Text'].tolist()\n",
        "    labels = dataset['Sentiment'].apply(lambda x: 1 if x == 'positive' else 0).tolist()  # Encode positive as 1, negative as 0\n",
        "\n",
        "    # Check dataset structure\n",
        "    print(f\"Sample texts: {texts[:2]}\")\n",
        "    print(f\"Sample labels: {labels[:2]}\")\n",
        "\n",
        "    return texts, labels"
      ],
      "metadata": {
        "id": "YY4LSQTiTsLR"
      },
      "execution_count": 55,
      "outputs": []
    },
    {
      "cell_type": "code",
      "source": [
        "# 3. Define emotion-to-polarity mapping\n",
        "emotion_mapping = {\n",
        "    'joy': 'positive',\n",
        "    'surprise': 'positive',\n",
        "    'trust': 'positive',\n",
        "    'love': 'positive',\n",
        "    'neutral': 'positive',\n",
        "\n",
        "    'anger': 'negative',\n",
        "    'fear': 'negative',\n",
        "    'sadness': 'negative',\n",
        "    'disgust': 'negative'\n",
        "}"
      ],
      "metadata": {
        "id": "LvrqYjbuTuMA"
      },
      "execution_count": 56,
      "outputs": []
    },
    {
      "cell_type": "code",
      "source": [
        "def map_emotion_to_polarity(emotion):\n",
        "    return emotion_mapping.get(emotion, 'neutral')"
      ],
      "metadata": {
        "id": "Hlo-difnVuwp"
      },
      "execution_count": 57,
      "outputs": []
    },
    {
      "cell_type": "code",
      "source": [
        "def tokenize_function(examples, tokenizer):\n",
        "    return tokenizer(examples['text'], padding='max_length', truncation=True)"
      ],
      "metadata": {
        "id": "k7rrjEC9UsYB"
      },
      "execution_count": 45,
      "outputs": []
    },
    {
      "cell_type": "code",
      "source": [
        "def load_emotion_model():\n",
        "    tokenizer = AutoTokenizer.from_pretrained(\"j-hartmann/emotion-english-distilroberta-base\")\n",
        "    emotion_model = pipeline('text-classification', model='j-hartmann/emotion-english-distilroberta-base', return_all_scores=True)\n",
        "    return emotion_model"
      ],
      "metadata": {
        "id": "RgtMzYQkUwVP"
      },
      "execution_count": 58,
      "outputs": []
    },
    {
      "cell_type": "code",
      "source": [
        "def analyze_emotions_polarity(emotion_model, tweets):\n",
        "    emotions = emotion_model(tweets)  # Get emotions for all tweets at once\n",
        "    polarities = []\n",
        "\n",
        "    for tweet_emotions in emotions:\n",
        "        # Select the emotion with the highest score\n",
        "        main_emotion = max(tweet_emotions, key=lambda x: x['score'])['label']\n",
        "        polarity = map_emotion_to_polarity(main_emotion)\n",
        "        polarities.append(1 if polarity == 'positive' else 0)\n",
        "\n",
        "    return polarities"
      ],
      "metadata": {
        "id": "xTVdOoHUU4Fp"
      },
      "execution_count": 68,
      "outputs": []
    },
    {
      "cell_type": "code",
      "source": [
        "def evaluate_model(true_labels, predicted_labels):\n",
        "    accuracy = accuracy_score(true_labels, predicted_labels)\n",
        "    precision, recall, f1, _ = precision_recall_fscore_support(true_labels, predicted_labels, average='binary')\n",
        "\n",
        "    print(f\"Accuracy: {accuracy:.4f}\")\n",
        "    print(f\"Precision: {precision:.4f}\")\n",
        "    print(f\"Recall: {recall:.4f}\")\n",
        "    print(f\"F1 Score: {f1:.4f}\")\n",
        "\n",
        "    return accuracy, precision, recall, f1"
      ],
      "metadata": {
        "id": "rHiL8uJWV9oD"
      },
      "execution_count": 69,
      "outputs": []
    },
    {
      "cell_type": "code",
      "source": [
        "def evaluate_user(file_path):\n",
        "    # Step 1: Load the dataset\n",
        "    dataset = load_dataset(file_path)\n",
        "\n",
        "    # Step 2: Preprocess the dataset\n",
        "    texts, labels = preprocess_dataset(dataset)\n",
        "\n",
        "    # Step 3: Load the pretrained emotion model\n",
        "    emotion_model = load_emotion_model()\n",
        "\n",
        "    # Step 4: Analyze emotions and map to positive/negative\n",
        "    predicted_polarities = analyze_emotions_polarity(emotion_model, texts)\n",
        "\n",
        "    # Step 5: Evaluate model performance\n",
        "    evaluate_model(labels, predicted_polarities)"
      ],
      "metadata": {
        "id": "HkvWfx8HV-rs"
      },
      "execution_count": 61,
      "outputs": []
    },
    {
      "cell_type": "code",
      "source": [
        "dataset = load_dataset(file_path)"
      ],
      "metadata": {
        "colab": {
          "base_uri": "https://localhost:8080/"
        },
        "id": "nflZfBaFWkQ7",
        "outputId": "eff5438f-ca9d-4d5d-b29f-a2f87619e9a0"
      },
      "execution_count": 64,
      "outputs": [
        {
          "output_type": "stream",
          "name": "stdout",
          "text": [
            "Dataset loaded. First few rows:\n",
            "   Unnamed: 0.1  Unnamed: 0  \\\n",
            "0             0           0   \n",
            "1             1           1   \n",
            "2             2           2   \n",
            "3             3           3   \n",
            "4             4           4   \n",
            "\n",
            "                                                Text    Sentiment  \\\n",
            "0   Enjoying a beautiful day at the park!        ...   Positive     \n",
            "1   Traffic was terrible this morning.           ...   Negative     \n",
            "2   Just finished an amazing workout! 💪          ...   Positive     \n",
            "3   Excited about the upcoming weekend getaway!  ...   Positive     \n",
            "4   Trying out a new recipe for dinner tonight.  ...   Neutral      \n",
            "\n",
            "             Timestamp            User     Platform  \\\n",
            "0  2023-01-15 12:30:00   User123          Twitter     \n",
            "1  2023-01-15 08:45:00   CommuterX        Twitter     \n",
            "2  2023-01-15 15:45:00   FitnessFan      Instagram    \n",
            "3  2023-01-15 18:20:00   AdventureX       Facebook    \n",
            "4  2023-01-15 19:55:00   ChefCook        Instagram    \n",
            "\n",
            "                                     Hashtags  Retweets  Likes       Country  \\\n",
            "0   #Nature #Park                                  15.0   30.0     USA         \n",
            "1   #Traffic #Morning                               5.0   10.0     Canada      \n",
            "2   #Fitness #Workout                              20.0   40.0   USA           \n",
            "3   #Travel #Adventure                              8.0   15.0     UK          \n",
            "4   #Cooking #Food                                 12.0   25.0    Australia    \n",
            "\n",
            "   Year  Month  Day  Hour  \n",
            "0  2023      1   15    12  \n",
            "1  2023      1   15     8  \n",
            "2  2023      1   15    15  \n",
            "3  2023      1   15    18  \n",
            "4  2023      1   15    19  \n"
          ]
        }
      ]
    },
    {
      "cell_type": "code",
      "source": [
        "texts, labels = preprocess_dataset(dataset)"
      ],
      "metadata": {
        "colab": {
          "base_uri": "https://localhost:8080/"
        },
        "id": "aWRO_E3uW7c8",
        "outputId": "9d831293-a638-4285-81ec-73c73d57a21e"
      },
      "execution_count": 65,
      "outputs": [
        {
          "output_type": "stream",
          "name": "stdout",
          "text": [
            "Sample texts: [' Enjoying a beautiful day at the park!              ', ' Traffic was terrible this morning.                 ']\n",
            "Sample labels: [0, 0]\n"
          ]
        }
      ]
    },
    {
      "cell_type": "code",
      "source": [
        "emotion_model = load_emotion_model()"
      ],
      "metadata": {
        "colab": {
          "base_uri": "https://localhost:8080/"
        },
        "id": "vKit5HvkW_KQ",
        "outputId": "ce86a2df-17cf-48bf-d210-b80f0999bddd"
      },
      "execution_count": 66,
      "outputs": [
        {
          "output_type": "stream",
          "name": "stderr",
          "text": [
            "/usr/local/lib/python3.10/dist-packages/transformers/tokenization_utils_base.py:1601: FutureWarning: `clean_up_tokenization_spaces` was not set. It will be set to `True` by default. This behavior will be depracted in transformers v4.45, and will be then set to `False` by default. For more details check this issue: https://github.com/huggingface/transformers/issues/31884\n",
            "  warnings.warn(\n",
            "/usr/local/lib/python3.10/dist-packages/transformers/pipelines/text_classification.py:104: UserWarning: `return_all_scores` is now deprecated,  if want a similar functionality use `top_k=None` instead of `return_all_scores=True` or `top_k=1` instead of `return_all_scores=False`.\n",
            "  warnings.warn(\n"
          ]
        }
      ]
    },
    {
      "cell_type": "code",
      "source": [
        "predicted_polarities = analyze_emotions_polarity(emotion_model, texts)"
      ],
      "metadata": {
        "id": "ioUmINNeXFrl"
      },
      "execution_count": 70,
      "outputs": []
    },
    {
      "cell_type": "code",
      "source": [
        "evaluate_model(labels, predicted_polarities)"
      ],
      "metadata": {
        "id": "McdrWy90XJDM"
      },
      "execution_count": null,
      "outputs": []
    }
  ]
}